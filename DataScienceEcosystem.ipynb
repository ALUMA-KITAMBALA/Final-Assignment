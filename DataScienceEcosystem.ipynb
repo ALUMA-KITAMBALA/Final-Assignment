{
  "metadata": {
    "language_info": {
      "codemirror_mode": {
        "name": "python",
        "version": 3
      },
      "file_extension": ".py",
      "mimetype": "text/x-python",
      "name": "python",
      "nbconvert_exporter": "python",
      "pygments_lexer": "ipython3",
      "version": "3.8"
    },
    "kernelspec": {
      "name": "python",
      "display_name": "Python (Pyodide)",
      "language": "python"
    }
  },
  "nbformat_minor": 4,
  "nbformat": 4,
  "cells": [
    {
      "cell_type": "markdown",
      "source": "# Data Science Tools and Ecosystem",
      "metadata": {}
    },
    {
      "cell_type": "markdown",
      "source": "### In this notebook, Data Science Tools and Ecosystem are summarized.",
      "metadata": {}
    },
    {
      "cell_type": "markdown",
      "source": "####  **Objectives:**\n\n* List popular languages for Data Science\n* Some of the commonly used libraries used by Data Scientists\n* Development environment open source tools in Data Science, and\n* few examples of evaluating arithmetic expressions in Python.",
      "metadata": {}
    },
    {
      "cell_type": "markdown",
      "source": "### Some of the popular languages that Data Scientists use are:\n\n1. Python\n2. R\n3. SQL languages\n4. Scala\n5. Java\n6. C++\n7. Julia",
      "metadata": {}
    },
    {
      "cell_type": "markdown",
      "source": "### Some of the commonly used libraries used by Data Scientists include:\n\n* Scientific computing \n    1. Pandas\n    2. NumPy\n\n* Visualization\n    1. Matplotlib\n    2. Seaborn\n\n* Machine learning\n    1. Scikit-learn\n    2. Keras\n\n* Deep Learning\n    1. TensorFlow\n    2. PyTorch\n",
      "metadata": {}
    },
    {
      "cell_type": "markdown",
      "source": "### Development environment open source tools in Data Science:\n\n| Data Science Tools |\n|--------------------|\n| JupyterLab  |\n| GitHub |\n| Visual Studio Code |\n",
      "metadata": {}
    },
    {
      "cell_type": "markdown",
      "source": "### Below are a few examples of evaluating arithmetic expressions in Python.\n\n",
      "metadata": {}
    },
    {
      "cell_type": "code",
      "source": "# This a simple arithmetic expression to mutiply then add integers.\n\n(3*4)+5",
      "metadata": {
        "trusted": true
      },
      "execution_count": 7,
      "outputs": [
        {
          "execution_count": 7,
          "output_type": "execute_result",
          "data": {
            "text/plain": "17"
          },
          "metadata": {}
        }
      ]
    },
    {
      "cell_type": "code",
      "source": "# This will convert 200 minutes to hours by diving by 60\n\nimport time\nsec = 200*60\nn= sec\ntime_format = time.strftime(\"%H:%M:%S\", time.gmtime(n))\nprint(time_format)",
      "metadata": {
        "trusted": true
      },
      "execution_count": 15,
      "outputs": [
        {
          "name": "stdout",
          "text": "03:20:00\n",
          "output_type": "stream"
        }
      ]
    },
    {
      "cell_type": "markdown",
      "source": "## Author\n\nALUMA KITAMBALA",
      "metadata": {}
    }
  ]
}
